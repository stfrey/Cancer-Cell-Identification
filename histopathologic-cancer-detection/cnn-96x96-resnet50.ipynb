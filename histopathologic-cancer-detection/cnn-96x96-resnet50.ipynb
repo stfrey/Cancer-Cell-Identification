{
 "cells": [
  {
   "cell_type": "code",
   "execution_count": null,
   "metadata": {},
   "outputs": [],
   "source": [
    "# Common libraries\n",
    "import numpy as np\n",
    "import matplotlib.pyplot as plt\n",
    "import os\n",
    "import pandas as pd\n",
    "from PIL import Image\n",
    "import random\n",
    "\n",
    "# TensorFlow imports\n",
    "from tensorflow.keras.models import Sequential\n",
    "from tensorflow.keras.layers import Dense, Dropout, Flatten, Conv2D, MaxPooling2D,\\\n",
    "                                    GlobalAveragePooling2D, BatchNormalization                                    \n",
    "from tensorflow.keras import utils, regularizers\n",
    "from tensorflow.keras.callbacks import EarlyStopping, History\n",
    "from tensorflow.python.keras.preprocessing.image import ImageDataGenerator, load_img\n",
    "from tensorflow.keras.applications.resnet50 import ResNet50\n",
    "from tensorflow.keras.optimizers import Adam\n",
    "\n",
    "# Setting a random seed\n",
    "np.random.seed(42)"
   ]
  },
  {
   "cell_type": "code",
   "execution_count": null,
   "metadata": {},
   "outputs": [],
   "source": [
    "# Creating targets\n",
    "TARGETS = ['Normal', 'Cancerous']\n",
    "\n",
    "# Setting path to data directory\n",
    "train_dir = './cnn_train'\n",
    "test_dir = './cnn_test'"
   ]
  },
  {
   "cell_type": "code",
   "execution_count": null,
   "metadata": {},
   "outputs": [],
   "source": [
    "# Creating an empty list to be populated by the image array and class\n",
    "training_data = []\n",
    "def create_training_data():\n",
    "    for target in TARGETS:\n",
    "        # Join the directory and target\n",
    "        path = os.path.join(train_dir, target)\n",
    "        # Index the target 0-normal, 1-cancerous\n",
    "        class_num = TARGETS.index(target)\n",
    "        for img in os.listdir(path):\n",
    "            # Openning an image by joining the path with the image file name\n",
    "            im = Image.open(os.path.join(path, img))\n",
    "            # Create a np.array of the image\n",
    "            img_array = np.array(im)\n",
    "            # Append the array and class index to the empty list\n",
    "            training_data.append([img_array, class_num])\n",
    "                            \n",
    "create_training_data()"
   ]
  },
  {
   "cell_type": "code",
   "execution_count": null,
   "metadata": {},
   "outputs": [],
   "source": [
    "# Creating an empty list to be populated by the image array and class\n",
    "testing_data = []\n",
    "def create_testing_data():\n",
    "    for target in TARGETS:\n",
    "        # Join the directory and target\n",
    "        path = os.path.join(test_dir, target)\n",
    "        # Index the target 0-normal, 1-cancerous\n",
    "        class_num = TARGETS.index(target)\n",
    "        for img in os.listdir(path):\n",
    "            # Openning an image by joining the path with the image file name\n",
    "            im = Image.open(os.path.join(path, img))\n",
    "            # Create a np.array of the image\n",
    "            img_array = np.array(im)\n",
    "            # Append the array and class index to the empty list\n",
    "            testing_data.append([img_array, class_num])\n",
    "            \n",
    "create_testing_data()"
   ]
  },
  {
   "cell_type": "code",
   "execution_count": null,
   "metadata": {},
   "outputs": [],
   "source": [
    "X_train = []\n",
    "y_train = []\n",
    "\n",
    "# Creating X_train - y_train\n",
    "for features, label in training_data:\n",
    "    X_train.append(features)\n",
    "    y_train.append(label)\n",
    "  \n",
    " # Reshape the x_train array\n",
    "X_train = np.array(X_train).reshape(-1, 96, 96, 3)"
   ]
  },
  {
   "cell_type": "code",
   "execution_count": null,
   "metadata": {},
   "outputs": [],
   "source": [
    "X_test = []\n",
    "y_test = []\n",
    "\n",
    "# Creating X_test, y_test\n",
    "for features, label in testing_data:\n",
    "    X_test.append(features)\n",
    "    y_test.append(label)\n",
    "    \n",
    " # Reshape the x_test array\n",
    "X_test = np.array(X_test).reshape(-1, 96, 96, 3)"
   ]
  },
  {
   "cell_type": "code",
   "execution_count": 1,
   "metadata": {},
   "outputs": [
    {
     "name": "stderr",
     "output_type": "stream",
     "text": [
      "/usr/local/Caskroom/miniconda/base/lib/python3.7/site-packages/tensorflow/python/framework/dtypes.py:526: FutureWarning: Passing (type, 1) or '1type' as a synonym of type is deprecated; in a future version of numpy, it will be understood as (type, (1,)) / '(1,)type'.\n",
      "  _np_qint8 = np.dtype([(\"qint8\", np.int8, 1)])\n",
      "/usr/local/Caskroom/miniconda/base/lib/python3.7/site-packages/tensorflow/python/framework/dtypes.py:527: FutureWarning: Passing (type, 1) or '1type' as a synonym of type is deprecated; in a future version of numpy, it will be understood as (type, (1,)) / '(1,)type'.\n",
      "  _np_quint8 = np.dtype([(\"quint8\", np.uint8, 1)])\n",
      "/usr/local/Caskroom/miniconda/base/lib/python3.7/site-packages/tensorflow/python/framework/dtypes.py:528: FutureWarning: Passing (type, 1) or '1type' as a synonym of type is deprecated; in a future version of numpy, it will be understood as (type, (1,)) / '(1,)type'.\n",
      "  _np_qint16 = np.dtype([(\"qint16\", np.int16, 1)])\n",
      "/usr/local/Caskroom/miniconda/base/lib/python3.7/site-packages/tensorflow/python/framework/dtypes.py:529: FutureWarning: Passing (type, 1) or '1type' as a synonym of type is deprecated; in a future version of numpy, it will be understood as (type, (1,)) / '(1,)type'.\n",
      "  _np_quint16 = np.dtype([(\"quint16\", np.uint16, 1)])\n",
      "/usr/local/Caskroom/miniconda/base/lib/python3.7/site-packages/tensorflow/python/framework/dtypes.py:530: FutureWarning: Passing (type, 1) or '1type' as a synonym of type is deprecated; in a future version of numpy, it will be understood as (type, (1,)) / '(1,)type'.\n",
      "  _np_qint32 = np.dtype([(\"qint32\", np.int32, 1)])\n",
      "/usr/local/Caskroom/miniconda/base/lib/python3.7/site-packages/tensorflow/python/framework/dtypes.py:535: FutureWarning: Passing (type, 1) or '1type' as a synonym of type is deprecated; in a future version of numpy, it will be understood as (type, (1,)) / '(1,)type'.\n",
      "  np_resource = np.dtype([(\"resource\", np.ubyte, 1)])\n"
     ]
    }
   ],
   "source": [
    "model = Sequential()\n",
    "\n",
    "model.add(ResNet50(\n",
    "        include_top = False,\n",
    "        weights = \"imagenet\",\n",
    "        input_shape = (96, 96, 3)\n",
    "))\n",
    "\n",
    "model.add(Dropout(0.5))\n",
    "\n",
    "model.add(GlobalAveragePooling2D())\n",
    "\n",
    "model.add(Dense(\n",
    "        128, \n",
    "        activation = \"relu\",\n",
    "        kernel_regularizer = regularizers.l2(0.5)\n",
    "\n",
    "))\n",
    "\n",
    "model.add(BatchNormalization())\n",
    "\n",
    "model.add(Dense(\n",
    "        1,\n",
    "        activation = \"sigmoid\",\n",
    "        kernel_regularizer = regularizers.l2(0.5)\n",
    "\n",
    "))\n",
    "\n",
    "\n",
    "es = EarlyStopping(\n",
    "    monitor = \"val_loss\",\n",
    "    min_delta = 0,\n",
    "    patience = 5\n",
    ")\n",
    "\n",
    "model.compile(\n",
    "    loss='binary_crossentropy',\n",
    "    optimizer='adam',\n",
    "    metrics=['acc']\n",
    ")"
   ]
  },
  {
   "cell_type": "code",
   "execution_count": null,
   "metadata": {},
   "outputs": [],
   "source": [
    "history = model.fit(\n",
    "        X_train,\n",
    "        y_train,\n",
    "        batch_size = 256,\n",
    "        validation_data = (X_test, y_test),\n",
    "        epochs = 10,\n",
    "        callbacks = [es],\n",
    "        verbose = 1,\n",
    "        shuffle = True\n",
    ")"
   ]
  }
 ],
 "metadata": {
  "kernelspec": {
   "display_name": "Python 3",
   "language": "python",
   "name": "python3"
  },
  "language_info": {
   "codemirror_mode": {
    "name": "ipython",
    "version": 3
   },
   "file_extension": ".py",
   "mimetype": "text/x-python",
   "name": "python",
   "nbconvert_exporter": "python",
   "pygments_lexer": "ipython3",
   "version": "3.7.4"
  }
 },
 "nbformat": 4,
 "nbformat_minor": 2
}
