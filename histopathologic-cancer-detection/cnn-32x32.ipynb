{
 "cells": [
  {
   "cell_type": "code",
   "execution_count": 1,
   "metadata": {},
   "outputs": [
    {
     "name": "stderr",
     "output_type": "stream",
     "text": [
      "/usr/local/Caskroom/miniconda/base/lib/python3.7/importlib/_bootstrap.py:219: RuntimeWarning: numpy.ufunc size changed, may indicate binary incompatibility. Expected 192 from C header, got 216 from PyObject\n",
      "  return f(*args, **kwds)\n",
      "/usr/local/Caskroom/miniconda/base/lib/python3.7/site-packages/tensorflow/python/framework/dtypes.py:526: FutureWarning: Passing (type, 1) or '1type' as a synonym of type is deprecated; in a future version of numpy, it will be understood as (type, (1,)) / '(1,)type'.\n",
      "  _np_qint8 = np.dtype([(\"qint8\", np.int8, 1)])\n",
      "/usr/local/Caskroom/miniconda/base/lib/python3.7/site-packages/tensorflow/python/framework/dtypes.py:527: FutureWarning: Passing (type, 1) or '1type' as a synonym of type is deprecated; in a future version of numpy, it will be understood as (type, (1,)) / '(1,)type'.\n",
      "  _np_quint8 = np.dtype([(\"quint8\", np.uint8, 1)])\n",
      "/usr/local/Caskroom/miniconda/base/lib/python3.7/site-packages/tensorflow/python/framework/dtypes.py:528: FutureWarning: Passing (type, 1) or '1type' as a synonym of type is deprecated; in a future version of numpy, it will be understood as (type, (1,)) / '(1,)type'.\n",
      "  _np_qint16 = np.dtype([(\"qint16\", np.int16, 1)])\n",
      "/usr/local/Caskroom/miniconda/base/lib/python3.7/site-packages/tensorflow/python/framework/dtypes.py:529: FutureWarning: Passing (type, 1) or '1type' as a synonym of type is deprecated; in a future version of numpy, it will be understood as (type, (1,)) / '(1,)type'.\n",
      "  _np_quint16 = np.dtype([(\"quint16\", np.uint16, 1)])\n",
      "/usr/local/Caskroom/miniconda/base/lib/python3.7/site-packages/tensorflow/python/framework/dtypes.py:530: FutureWarning: Passing (type, 1) or '1type' as a synonym of type is deprecated; in a future version of numpy, it will be understood as (type, (1,)) / '(1,)type'.\n",
      "  _np_qint32 = np.dtype([(\"qint32\", np.int32, 1)])\n",
      "/usr/local/Caskroom/miniconda/base/lib/python3.7/site-packages/tensorflow/python/framework/dtypes.py:535: FutureWarning: Passing (type, 1) or '1type' as a synonym of type is deprecated; in a future version of numpy, it will be understood as (type, (1,)) / '(1,)type'.\n",
      "  np_resource = np.dtype([(\"resource\", np.ubyte, 1)])\n",
      "/usr/local/Caskroom/miniconda/base/lib/python3.7/importlib/_bootstrap.py:219: RuntimeWarning: numpy.ufunc size changed, may indicate binary incompatibility. Expected 216, got 192\n",
      "  return f(*args, **kwds)\n"
     ]
    }
   ],
   "source": [
    "# Common libraries\n",
    "import numpy as np\n",
    "import matplotlib.pyplot as plt\n",
    "import os\n",
    "import pandas as pd\n",
    "from PIL import Image\n",
    "import random\n",
    "from sklearn.metrics import confusion_matrix\n",
    "\n",
    "# TensorFlow imports\n",
    "from tensorflow.keras.models import Sequential\n",
    "from tensorflow.keras.layers import Dense, Dropout, Flatten, Conv2D, MaxPooling2D,\\\n",
    "                                    GlobalAveragePooling2D, BatchNormalization                                  \n",
    "from tensorflow.keras import utils, regularizers\n",
    "from tensorflow.keras.callbacks import EarlyStopping, History\n",
    "from tensorflow.python.keras.preprocessing.image import ImageDataGenerator, load_img\n",
    "from tensorflow.keras.optimizers import Adam\n",
    "\n",
    "# Setting a random seed\n",
    "np.random.seed(42)"
   ]
  },
  {
   "cell_type": "code",
   "execution_count": 2,
   "metadata": {},
   "outputs": [],
   "source": [
    "TARGETS = ['Normal', 'Cancerous']\n",
    "\n",
    "train_dir = './cnn_train'\n",
    "test_dir = './cnn_test'"
   ]
  },
  {
   "cell_type": "code",
   "execution_count": 3,
   "metadata": {},
   "outputs": [],
   "source": [
    "# Creating an empty list to be populated by the image array and class\n",
    "training_data = []\n",
    "def create_training_data():\n",
    "    for target in TARGETS:\n",
    "        # Join the directory and target\n",
    "        path = os.path.join(train_dir, target)\n",
    "        # Index the target 0-normal, 1-cancerous\n",
    "        class_num = TARGETS.index(target)\n",
    "        for img in os.listdir(path):\n",
    "            # Openning an image by joining the path with the image file name\n",
    "            im = Image.open(os.path.join(path, img))\n",
    "            # Create a np.array of the newly cropped 32x32 pixel image\n",
    "            img_array = np.array(im.crop((32, 32, 64, 64)))\n",
    "            # Append the array and class index to the empty list\n",
    "            training_data.append([img_array, class_num])\n",
    "                            \n",
    "create_training_data()"
   ]
  },
  {
   "cell_type": "code",
   "execution_count": 4,
   "metadata": {},
   "outputs": [],
   "source": [
    "# Creating an empty list to be populated by the image array and class\n",
    "testing_data = []\n",
    "def create_testing_data():\n",
    "    for target in TARGETS:\n",
    "        # Join the directory and target\n",
    "        path = os.path.join(test_dir, target)\n",
    "        # Index the target 0-normal, 1-cancerous\n",
    "        class_num = TARGETS.index(target)\n",
    "        for img in os.listdir(path):\n",
    "            # Openning an image by joining the path with the image file name\n",
    "            im = Image.open(os.path.join(path, img))\n",
    "            # Create a np.array of the newly cropped 32x32 pixel image\n",
    "            img_array = np.array(im.crop((32, 32, 64, 64)))\n",
    "            # Append the array and class index to the empty list\n",
    "            testing_data.append([img_array, class_num])\n",
    "            \n",
    "create_testing_data()"
   ]
  },
  {
   "cell_type": "code",
   "execution_count": 5,
   "metadata": {},
   "outputs": [],
   "source": [
    "X_train = []\n",
    "y_train = []\n",
    "\n",
    "# Creating X_train - y_train\n",
    "for features, label in training_data:\n",
    "    X_train.append(features)\n",
    "    y_train.append(label)\n",
    "  \n",
    " # Reshape the x_train array\n",
    "X_train = np.array(X_train).reshape(-1, 32, 32, 3)"
   ]
  },
  {
   "cell_type": "code",
   "execution_count": 6,
   "metadata": {},
   "outputs": [],
   "source": [
    "X_test = []\n",
    "y_test = []\n",
    "\n",
    "# Creating X_test, y_test\n",
    "for features, label in testing_data:\n",
    "    X_test.append(features)\n",
    "    y_test.append(label)\n",
    "    \n",
    " # Reshape the x_test array\n",
    "X_test = np.array(X_test).reshape(-1, 32, 32, 3)"
   ]
  },
  {
   "cell_type": "code",
   "execution_count": 7,
   "metadata": {
    "scrolled": false
   },
   "outputs": [
    {
     "name": "stdout",
     "output_type": "stream",
     "text": [
      "WARNING:tensorflow:From /usr/local/Caskroom/miniconda/base/lib/python3.7/site-packages/tensorflow/python/ops/resource_variable_ops.py:435: colocate_with (from tensorflow.python.framework.ops) is deprecated and will be removed in a future version.\n",
      "Instructions for updating:\n",
      "Colocations handled automatically by placer.\n",
      "WARNING:tensorflow:From /usr/local/Caskroom/miniconda/base/lib/python3.7/site-packages/tensorflow/python/keras/layers/core.py:143: calling dropout (from tensorflow.python.ops.nn_ops) with keep_prob is deprecated and will be removed in a future version.\n",
      "Instructions for updating:\n",
      "Please use `rate` instead of `keep_prob`. Rate should be set to `rate = 1 - keep_prob`.\n",
      "Train on 176022 samples, validate on 44003 samples\n",
      "WARNING:tensorflow:From /usr/local/Caskroom/miniconda/base/lib/python3.7/site-packages/tensorflow/python/ops/math_ops.py:3066: to_int32 (from tensorflow.python.ops.math_ops) is deprecated and will be removed in a future version.\n",
      "Instructions for updating:\n",
      "Use tf.cast instead.\n",
      "Epoch 1/20\n",
      "176022/176022 [==============================] - 100s 567us/sample - loss: 3.5675 - acc: 0.6886 - val_loss: 0.5417 - val_acc: 0.7670\n",
      "Epoch 2/20\n",
      "176022/176022 [==============================] - 91s 516us/sample - loss: 0.5447 - acc: 0.7646 - val_loss: 0.5257 - val_acc: 0.7758\n",
      "Epoch 3/20\n",
      "176022/176022 [==============================] - 96s 544us/sample - loss: 0.5367 - acc: 0.7696 - val_loss: 0.5494 - val_acc: 0.7557\n",
      "Epoch 4/20\n",
      "176022/176022 [==============================] - 94s 532us/sample - loss: 0.5311 - acc: 0.7706 - val_loss: 0.5176 - val_acc: 0.7754\n",
      "Epoch 5/20\n",
      "176022/176022 [==============================] - 96s 545us/sample - loss: 0.5268 - acc: 0.7733 - val_loss: 0.5326 - val_acc: 0.7579\n",
      "Epoch 6/20\n",
      "176022/176022 [==============================] - 94s 533us/sample - loss: 0.5262 - acc: 0.7737 - val_loss: 0.5076 - val_acc: 0.7810\n",
      "Epoch 7/20\n",
      "176022/176022 [==============================] - 85s 484us/sample - loss: 0.5227 - acc: 0.7754 - val_loss: 0.5096 - val_acc: 0.7791\n",
      "Epoch 8/20\n",
      "176022/176022 [==============================] - 84s 475us/sample - loss: 0.5228 - acc: 0.7756 - val_loss: 0.5106 - val_acc: 0.7776\n",
      "Epoch 9/20\n",
      "176022/176022 [==============================] - 86s 487us/sample - loss: 0.5211 - acc: 0.7766 - val_loss: 0.5086 - val_acc: 0.7819\n",
      "Epoch 10/20\n",
      "176022/176022 [==============================] - 87s 492us/sample - loss: 0.5174 - acc: 0.7776 - val_loss: 0.5035 - val_acc: 0.7814\n",
      "Epoch 11/20\n",
      "176022/176022 [==============================] - 85s 485us/sample - loss: 0.5160 - acc: 0.7776 - val_loss: 0.5084 - val_acc: 0.7763\n",
      "Epoch 12/20\n",
      "176022/176022 [==============================] - 87s 494us/sample - loss: 0.5142 - acc: 0.7795 - val_loss: 0.5064 - val_acc: 0.7805\n",
      "Epoch 13/20\n",
      "176022/176022 [==============================] - 88s 499us/sample - loss: 0.5128 - acc: 0.7795 - val_loss: 0.4962 - val_acc: 0.7855\n",
      "Epoch 14/20\n",
      "176022/176022 [==============================] - 88s 500us/sample - loss: 0.5102 - acc: 0.7805 - val_loss: 0.5019 - val_acc: 0.7809\n",
      "Epoch 15/20\n",
      "176022/176022 [==============================] - 94s 536us/sample - loss: 0.5082 - acc: 0.7814 - val_loss: 0.4955 - val_acc: 0.7868\n",
      "Epoch 16/20\n",
      "176022/176022 [==============================] - 87s 496us/sample - loss: 0.5062 - acc: 0.7838 - val_loss: 0.5006 - val_acc: 0.7883\n",
      "Epoch 17/20\n",
      "176022/176022 [==============================] - 85s 485us/sample - loss: 0.5061 - acc: 0.7842 - val_loss: 0.4981 - val_acc: 0.7894\n",
      "Epoch 18/20\n",
      "176022/176022 [==============================] - 86s 488us/sample - loss: 0.5027 - acc: 0.7873 - val_loss: 0.5151 - val_acc: 0.7796\n",
      "Epoch 19/20\n",
      "176022/176022 [==============================] - 174s 990us/sample - loss: 0.5001 - acc: 0.7890 - val_loss: 0.5000 - val_acc: 0.7912\n",
      "Epoch 20/20\n",
      "176022/176022 [==============================] - 86s 490us/sample - loss: 0.4966 - acc: 0.7929 - val_loss: 0.5110 - val_acc: 0.7712\n"
     ]
    }
   ],
   "source": [
    "model = Sequential()\n",
    "\n",
    "model.add(Conv2D(\n",
    "    filters = 16,\n",
    "    kernel_size = (3,3),\n",
    "    activation = \"relu\",\n",
    "    input_shape = (32, 32, 3)\n",
    "))\n",
    "\n",
    "model.add(MaxPooling2D(pool_size = (2,2)))\n",
    "\n",
    "model.add(Conv2D(\n",
    "    filters = 64, \n",
    "    kernel_size = (2,2),\n",
    "    activation = \"relu\"))\n",
    "\n",
    "model.add(MaxPooling2D(\n",
    "    pool_size = (2,2)\n",
    "))\n",
    "\n",
    "model.add(Flatten())\n",
    "\n",
    "model.add(Dense(\n",
    "    128, \n",
    "    activation = \"relu\",\n",
    "    kernel_regularizer = regularizers.l2(0.25)\n",
    "))\n",
    "\n",
    "model.add(Dropout(0.5))\n",
    "\n",
    "model.add(Dense(\n",
    "    1, \n",
    "    activation = \"sigmoid\",\n",
    "    kernel_regularizer = regularizers.l2(0.25)\n",
    "))\n",
    "\n",
    "es = EarlyStopping(\n",
    "    monitor = \"val_loss\",\n",
    "    min_delta = 0,\n",
    "    patience = 5\n",
    ")\n",
    "\n",
    "model.compile(\n",
    "    loss='binary_crossentropy',\n",
    "    optimizer='adam',\n",
    "    metrics=['acc']\n",
    ")\n",
    "\n",
    "history = model.fit(\n",
    "        X_train,\n",
    "        y_train,\n",
    "        batch_size = 256,\n",
    "        validation_data = (X_test, y_test),\n",
    "        epochs = 20,\n",
    "        callbacks = [es],\n",
    "        verbose = 1,\n",
    "        shuffle = True\n",
    ")"
   ]
  },
  {
   "cell_type": "code",
   "execution_count": 8,
   "metadata": {
    "scrolled": true
   },
   "outputs": [
    {
     "data": {
      "image/png": "[encoded data removed]",
      "text/plain": [
       "<Figure size 432x288 with 1 Axes>"
      ]
     },
     "metadata": {
      "needs_background": "light"
     },
     "output_type": "display_data"
    }
   ],
   "source": [
    "train_loss = history.history[\"loss\"]\n",
    "test_loss = history.history[\"val_loss\"]\n",
    "\n",
    "plt.plot(train_loss, label = \"Training Loss\", color = \"navy\")\n",
    "plt.plot(test_loss, label = \"Testing Loss\", color = \"skyblue\")\n",
    "plt.legend();"
   ]
  },
  {
   "cell_type": "code",
   "execution_count": 9,
   "metadata": {},
   "outputs": [
    {
     "data": {
      "image/png": "[encoded data removed]",
      "text/plain": [
       "<Figure size 432x288 with 1 Axes>"
      ]
     },
     "metadata": {
      "needs_background": "light"
     },
     "output_type": "display_data"
    }
   ],
   "source": [
    "train_acc = history.history[\"acc\"]\n",
    "test_acc = history.history[\"val_acc\"]\n",
    "\n",
    "plt.plot(train_acc, label = \"Training Accuracy\", color = \"navy\")\n",
    "plt.plot(test_acc, label = \"Testing Accuracy\", color = \"skyblue\")\n",
    "plt.legend();"
   ]
  },
  {
   "cell_type": "code",
   "execution_count": 32,
   "metadata": {
    "scrolled": true
   },
   "outputs": [
    {
     "data": {
      "text/html": [
       "<div>\n",
       "<style scoped>\n",
       "    .dataframe tbody tr th:only-of-type {\n",
       "        vertical-align: middle;\n",
       "    }\n",
       "\n",
       "    .dataframe tbody tr th {\n",
       "        vertical-align: top;\n",
       "    }\n",
       "\n",
       "    .dataframe thead th {\n",
       "        text-align: right;\n",
       "    }\n",
       "</style>\n",
       "<table border=\"1\" class=\"dataframe\">\n",
       "  <thead>\n",
       "    <tr style=\"text-align: right;\">\n",
       "      <th></th>\n",
       "      <th>0</th>\n",
       "      <th>1</th>\n",
       "    </tr>\n",
       "  </thead>\n",
       "  <tbody>\n",
       "    <tr>\n",
       "      <th>0</th>\n",
       "      <td>19267</td>\n",
       "      <td>6914</td>\n",
       "    </tr>\n",
       "    <tr>\n",
       "      <th>1</th>\n",
       "      <td>3154</td>\n",
       "      <td>14668</td>\n",
       "    </tr>\n",
       "  </tbody>\n",
       "</table>\n",
       "</div>"
      ],
      "text/plain": [
       "       0      1\n",
       "0  19267   6914\n",
       "1   3154  14668"
      ]
     },
     "execution_count": 32,
     "metadata": {},
     "output_type": "execute_result"
    }
   ],
   "source": [
    "y_pred = model.predict_classes(X_test)\n",
    "\n",
    "cm = confusion_matrix(y_test, y_pred)\n",
    "\n",
    "pd.DataFrame(cm)"
   ]
  },
  {
   "cell_type": "code",
   "execution_count": null,
   "metadata": {},
   "outputs": [],
   "source": []
  }
 ],
 "metadata": {
  "kernelspec": {
   "display_name": "Python 3",
   "language": "python",
   "name": "python3"
  },
  "language_info": {
   "codemirror_mode": {
    "name": "ipython",
    "version": 3
   },
   "file_extension": ".py",
   "mimetype": "text/x-python",
   "name": "python",
   "nbconvert_exporter": "python",
   "pygments_lexer": "ipython3",
   "version": "3.7.4"
  }
 },
 "nbformat": 4,
 "nbformat_minor": 2
}
