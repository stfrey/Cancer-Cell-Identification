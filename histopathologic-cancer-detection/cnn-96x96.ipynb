{
 "cells": [
  {
   "cell_type": "code",
   "execution_count": 12,
   "metadata": {},
   "outputs": [],
   "source": [
    "import numpy as np\n",
    "import matplotlib.pyplot as plt\n",
    "import os\n",
    "import pandas as pd\n",
    "from PIL import Image\n",
    "import random\n",
    "from sklearn.metrics import confusion_matrix\n",
    "\n",
    "\n",
    "from tensorflow.keras.models import Sequential\n",
    "from tensorflow.keras.layers import Dense, Dropout, Flatten, Conv2D, MaxPooling2D,\\\n",
    "                                    GlobalAveragePooling2D, BatchNormalization\\\n",
    "                                    \n",
    "from tensorflow.keras import utils, regularizers\n",
    "from tensorflow.keras.callbacks import EarlyStopping, History\n",
    "from tensorflow.python.keras.preprocessing.image import ImageDataGenerator, load_img\n",
    "from tensorflow.keras.applications.resnet50 import ResNet50\n",
    "from tensorflow.keras.optimizers import Adam\n",
    "\n",
    "# Setting a random seed\n",
    "np.random.seed(42)"
   ]
  },
  {
   "cell_type": "code",
   "execution_count": 2,
   "metadata": {},
   "outputs": [],
   "source": [
    "TARGETS = ['Normal', 'Cancerous']\n",
    "\n",
    "train_dir = './cnn_train'\n",
    "test_dir = './cnn_test'"
   ]
  },
  {
   "cell_type": "code",
   "execution_count": 3,
   "metadata": {},
   "outputs": [],
   "source": [
    "training_data = []\n",
    "def create_training_data():\n",
    "    for target in TARGETS:\n",
    "        path = os.path.join(train_dir, target)\n",
    "        class_num = TARGETS.index(target)\n",
    "        for img in os.listdir(path):\n",
    "            img_array = np.array(Image.open(os.path.join(path, img)))\n",
    "            training_data.append([img_array, class_num])\n",
    "                            \n",
    "create_training_data()"
   ]
  },
  {
   "cell_type": "code",
   "execution_count": 4,
   "metadata": {},
   "outputs": [],
   "source": [
    "testing_data = []\n",
    "def create_testing_data():\n",
    "    for target in TARGETS:\n",
    "        path = os.path.join(test_dir, target)\n",
    "        class_num = TARGETS.index(target)\n",
    "        for img in os.listdir(path):\n",
    "            img_array = np.array(Image.open(os.path.join(path, img)))\n",
    "            testing_data.append([img_array, class_num])\n",
    "            \n",
    "create_testing_data()"
   ]
  },
  {
   "cell_type": "code",
   "execution_count": 5,
   "metadata": {},
   "outputs": [],
   "source": [
    "X_train = []\n",
    "y_train = []\n",
    "\n",
    "for features, label in training_data:\n",
    "    X_train.append(features)\n",
    "    y_train.append(label)\n",
    "    \n",
    "X_train = np.array(X_train).reshape(-1, 96, 96, 3)"
   ]
  },
  {
   "cell_type": "code",
   "execution_count": 6,
   "metadata": {},
   "outputs": [],
   "source": [
    "X_test = []\n",
    "y_test = []\n",
    "\n",
    "for features, label in testing_data:\n",
    "    X_test.append(features)\n",
    "    y_test.append(label)\n",
    "    \n",
    "X_test = np.array(X_test).reshape(-1, 96, 96, 3)"
   ]
  },
  {
   "cell_type": "code",
   "execution_count": 7,
   "metadata": {},
   "outputs": [
    {
     "name": "stdout",
     "output_type": "stream",
     "text": [
      "WARNING:tensorflow:From /usr/local/Caskroom/miniconda/base/lib/python3.7/site-packages/tensorflow/python/ops/resource_variable_ops.py:435: colocate_with (from tensorflow.python.framework.ops) is deprecated and will be removed in a future version.\n",
      "Instructions for updating:\n",
      "Colocations handled automatically by placer.\n",
      "WARNING:tensorflow:From /usr/local/Caskroom/miniconda/base/lib/python3.7/site-packages/tensorflow/python/keras/layers/core.py:143: calling dropout (from tensorflow.python.ops.nn_ops) with keep_prob is deprecated and will be removed in a future version.\n",
      "Instructions for updating:\n",
      "Please use `rate` instead of `keep_prob`. Rate should be set to `rate = 1 - keep_prob`.\n"
     ]
    }
   ],
   "source": [
    "model = Sequential()\n",
    "\n",
    "model.add(Conv2D(\n",
    "    filters = 16,\n",
    "    kernel_size = (3,3),\n",
    "    activation = \"relu\",\n",
    "    input_shape = (96, 96, 3)\n",
    "))\n",
    "\n",
    "model.add(MaxPooling2D(pool_size = (2,2)))\n",
    "\n",
    "model.add(Conv2D(\n",
    "    filters = 64, \n",
    "    kernel_size = (2,2),\n",
    "    activation = \"relu\"))\n",
    "\n",
    "model.add(MaxPooling2D(\n",
    "    pool_size = (2,2)\n",
    "))\n",
    "\n",
    "model.add(Flatten())\n",
    "\n",
    "model.add(Dense(\n",
    "    128, \n",
    "    activation = \"relu\",\n",
    "    kernel_regularizer = regularizers.l2(0.25)\n",
    "))\n",
    "\n",
    "model.add(Dropout(0.5))\n",
    "\n",
    "model.add(Dense(\n",
    "    1, \n",
    "    activation = \"sigmoid\",\n",
    "    kernel_regularizer = regularizers.l2(0.25)\n",
    "))\n",
    "\n",
    "es = EarlyStopping(\n",
    "    monitor = \"val_loss\",\n",
    "    min_delta = 0,\n",
    "    patience = 5\n",
    ")\n",
    "\n",
    "model.compile(\n",
    "    loss='binary_crossentropy',\n",
    "    optimizer='adam',\n",
    "    metrics=['acc']\n",
    ")"
   ]
  },
  {
   "cell_type": "code",
   "execution_count": 8,
   "metadata": {},
   "outputs": [
    {
     "name": "stdout",
     "output_type": "stream",
     "text": [
      "Train on 176022 samples, validate on 44003 samples\n",
      "WARNING:tensorflow:From /usr/local/Caskroom/miniconda/base/lib/python3.7/site-packages/tensorflow/python/ops/math_ops.py:3066: to_int32 (from tensorflow.python.ops.math_ops) is deprecated and will be removed in a future version.\n",
      "Instructions for updating:\n",
      "Use tf.cast instead.\n",
      "Epoch 1/10\n",
      "176022/176022 [==============================] - 733s 4ms/sample - loss: 6.1652 - acc: 0.5855 - val_loss: 0.6925 - val_acc: 0.5537\n",
      "Epoch 2/10\n",
      "176022/176022 [==============================] - 760s 4ms/sample - loss: 0.6800 - acc: 0.5826 - val_loss: 0.6661 - val_acc: 0.5870\n",
      "Epoch 3/10\n",
      "176022/176022 [==============================] - 785s 4ms/sample - loss: 0.6664 - acc: 0.6082 - val_loss: 0.6547 - val_acc: 0.6160\n",
      "Epoch 4/10\n",
      "176022/176022 [==============================] - 776s 4ms/sample - loss: 0.6651 - acc: 0.6140 - val_loss: 0.6608 - val_acc: 0.6294\n",
      "Epoch 5/10\n",
      "176022/176022 [==============================] - 773s 4ms/sample - loss: 0.6590 - acc: 0.6203 - val_loss: 0.6440 - val_acc: 0.6241\n",
      "Epoch 6/10\n",
      "176022/176022 [==============================] - 2923s 17ms/sample - loss: 0.6545 - acc: 0.6209 - val_loss: 0.6400 - val_acc: 0.6173\n",
      "Epoch 7/10\n",
      "176022/176022 [==============================] - 780s 4ms/sample - loss: 0.6511 - acc: 0.6204 - val_loss: 0.6389 - val_acc: 0.6314\n",
      "Epoch 8/10\n",
      "176022/176022 [==============================] - 1151s 7ms/sample - loss: 0.6518 - acc: 0.6219 - val_loss: 0.6441 - val_acc: 0.6130\n",
      "Epoch 9/10\n",
      "176022/176022 [==============================] - 1558s 9ms/sample - loss: 0.6637 - acc: 0.6228 - val_loss: 0.6548 - val_acc: 0.6187\n",
      "Epoch 10/10\n",
      "176022/176022 [==============================] - 950s 5ms/sample - loss: 0.6542 - acc: 0.6257 - val_loss: 0.6361 - val_acc: 0.6356\n"
     ]
    }
   ],
   "source": [
    "history = model.fit(\n",
    "        X_train,\n",
    "        y_train,\n",
    "        batch_size = 256,\n",
    "        validation_data = (X_test, y_test),\n",
    "        epochs = 10,\n",
    "        callbacks = [es],\n",
    "        verbose = 1,\n",
    "        shuffle = True\n",
    ")"
   ]
  },
  {
   "cell_type": "code",
   "execution_count": 9,
   "metadata": {},
   "outputs": [
    {
     "data": {
      "image/png": "[encoded data removed]",
      "text/plain": [
       "<Figure size 432x288 with 1 Axes>"
      ]
     },
     "metadata": {
      "needs_background": "light"
     },
     "output_type": "display_data"
    }
   ],
   "source": [
    "train_loss = history.history[\"loss\"]\n",
    "test_loss = history.history[\"val_loss\"]\n",
    "\n",
    "plt.plot(train_loss, label = \"Training Loss\", color = \"navy\")\n",
    "plt.plot(test_loss, label = \"Testing Loss\", color = \"skyblue\")\n",
    "plt.legend();"
   ]
  },
  {
   "cell_type": "code",
   "execution_count": 10,
   "metadata": {},
   "outputs": [
    {
     "data": {
      "image/png": "[encoded data removed]",
      "text/plain": [
       "<Figure size 432x288 with 1 Axes>"
      ]
     },
     "metadata": {
      "needs_background": "light"
     },
     "output_type": "display_data"
    }
   ],
   "source": [
    "train_acc = history.history[\"acc\"]\n",
    "test_acc = history.history[\"val_acc\"]\n",
    "\n",
    "plt.plot(train_acc, label = \"Training Accuracy\", color = \"navy\")\n",
    "plt.plot(test_acc, label = \"Testing Accuracy\", color = \"skyblue\")\n",
    "plt.legend();"
   ]
  },
  {
   "cell_type": "code",
   "execution_count": 13,
   "metadata": {},
   "outputs": [
    {
     "data": {
      "text/html": [
       "<div>\n",
       "<style scoped>\n",
       "    .dataframe tbody tr th:only-of-type {\n",
       "        vertical-align: middle;\n",
       "    }\n",
       "\n",
       "    .dataframe tbody tr th {\n",
       "        vertical-align: top;\n",
       "    }\n",
       "\n",
       "    .dataframe thead th {\n",
       "        text-align: right;\n",
       "    }\n",
       "</style>\n",
       "<table border=\"1\" class=\"dataframe\">\n",
       "  <thead>\n",
       "    <tr style=\"text-align: right;\">\n",
       "      <th></th>\n",
       "      <th>0</th>\n",
       "      <th>1</th>\n",
       "    </tr>\n",
       "  </thead>\n",
       "  <tbody>\n",
       "    <tr>\n",
       "      <th>0</th>\n",
       "      <td>16128</td>\n",
       "      <td>10053</td>\n",
       "    </tr>\n",
       "    <tr>\n",
       "      <th>1</th>\n",
       "      <td>5983</td>\n",
       "      <td>11839</td>\n",
       "    </tr>\n",
       "  </tbody>\n",
       "</table>\n",
       "</div>"
      ],
      "text/plain": [
       "       0      1\n",
       "0  16128  10053\n",
       "1   5983  11839"
      ]
     },
     "execution_count": 13,
     "metadata": {},
     "output_type": "execute_result"
    }
   ],
   "source": [
    "y_pred = model.predict_classes(X_test)\n",
    "\n",
    "cm = confusion_matrix(y_test, y_pred)\n",
    "\n",
    "pd.DataFrame(cm)"
   ]
  },
  {
   "cell_type": "code",
   "execution_count": null,
   "metadata": {},
   "outputs": [],
   "source": []
  }
 ],
 "metadata": {
  "kernelspec": {
   "display_name": "Python 3",
   "language": "python",
   "name": "python3"
  },
  "language_info": {
   "codemirror_mode": {
    "name": "ipython",
    "version": 3
   },
   "file_extension": ".py",
   "mimetype": "text/x-python",
   "name": "python",
   "nbconvert_exporter": "python",
   "pygments_lexer": "ipython3",
   "version": "3.7.4"
  }
 },
 "nbformat": 4,
 "nbformat_minor": 2
}
