{
 "cells": [
  {
   "cell_type": "code",
   "execution_count": 1,
   "metadata": {},
   "outputs": [],
   "source": [
    "# Importing libraries\n",
    "import numpy as np\n",
    "import pandas as pd\n",
    "import os\n",
    "import shutil"
   ]
  },
  {
   "cell_type": "code",
   "execution_count": 2,
   "metadata": {},
   "outputs": [],
   "source": [
    "# Reading in kaggle competition csv\n",
    "df = pd.read_csv('./kaggle-csv/train_labels.csv')"
   ]
  },
  {
   "cell_type": "code",
   "execution_count": 3,
   "metadata": {},
   "outputs": [
    {
     "data": {
      "text/html": [
       "<div>\n",
       "<style scoped>\n",
       "    .dataframe tbody tr th:only-of-type {\n",
       "        vertical-align: middle;\n",
       "    }\n",
       "\n",
       "    .dataframe tbody tr th {\n",
       "        vertical-align: top;\n",
       "    }\n",
       "\n",
       "    .dataframe thead th {\n",
       "        text-align: right;\n",
       "    }\n",
       "</style>\n",
       "<table border=\"1\" class=\"dataframe\">\n",
       "  <thead>\n",
       "    <tr style=\"text-align: right;\">\n",
       "      <th></th>\n",
       "      <th>id</th>\n",
       "      <th>label</th>\n",
       "    </tr>\n",
       "  </thead>\n",
       "  <tbody>\n",
       "    <tr>\n",
       "      <th>0</th>\n",
       "      <td>f38a6374c348f90b587e046aac6079959adf3835</td>\n",
       "      <td>0</td>\n",
       "    </tr>\n",
       "    <tr>\n",
       "      <th>1</th>\n",
       "      <td>c18f2d887b7ae4f6742ee445113fa1aef383ed77</td>\n",
       "      <td>1</td>\n",
       "    </tr>\n",
       "    <tr>\n",
       "      <th>2</th>\n",
       "      <td>755db6279dae599ebb4d39a9123cce439965282d</td>\n",
       "      <td>0</td>\n",
       "    </tr>\n",
       "    <tr>\n",
       "      <th>3</th>\n",
       "      <td>bc3f0c64fb968ff4a8bd33af6971ecae77c75e08</td>\n",
       "      <td>0</td>\n",
       "    </tr>\n",
       "    <tr>\n",
       "      <th>4</th>\n",
       "      <td>068aba587a4950175d04c680d38943fd488d6a9d</td>\n",
       "      <td>0</td>\n",
       "    </tr>\n",
       "  </tbody>\n",
       "</table>\n",
       "</div>"
      ],
      "text/plain": [
       "                                         id  label\n",
       "0  f38a6374c348f90b587e046aac6079959adf3835      0\n",
       "1  c18f2d887b7ae4f6742ee445113fa1aef383ed77      1\n",
       "2  755db6279dae599ebb4d39a9123cce439965282d      0\n",
       "3  bc3f0c64fb968ff4a8bd33af6971ecae77c75e08      0\n",
       "4  068aba587a4950175d04c680d38943fd488d6a9d      0"
      ]
     },
     "execution_count": 3,
     "metadata": {},
     "output_type": "execute_result"
    }
   ],
   "source": [
    "df.head()"
   ]
  },
  {
   "cell_type": "code",
   "execution_count": 4,
   "metadata": {},
   "outputs": [],
   "source": [
    "# Setting Cancerous to 1 and normal to 0\n",
    "cancerous = df.loc[df['label'] == 1]\n",
    "normal = df.loc[df['label'] == 0]"
   ]
  },
  {
   "cell_type": "code",
   "execution_count": 5,
   "metadata": {},
   "outputs": [],
   "source": [
    "count_T1_T = 0\n",
    "count_T1_N = 0\n",
    "\n",
    "def folder_seperator(folder, cancerous, normal,\n",
    "                             train_cancerous, test_cancerous, \n",
    "                             train_normal, test_normal):\n",
    "    \n",
    "    for i, file in enumerate(os.listdir(folder)):\n",
    "        \n",
    "        # Push to Training/Squamous Tissue\n",
    "        global count_T1_T\n",
    "        if cancerous['id'].str.contains(file.replace('.tif', '')).any() and count_T1_T <= np.round(cancerous.shape[0]*0.8):\n",
    "            count_T1_T += 1\n",
    "            shutil.move(f'{folder}{file}', f\"{train_cancerous}{file}\")\n",
    "\n",
    "        # Push to Testing/Squamous Tissue   \n",
    "        elif cancerous['id'].str.contains(file.replace('.tif', '')).any():\n",
    "            shutil.move(f'{folder}{file}', f\"{test_cancerous}{file}\")\n",
    "    \n",
    "        # Push to Training/Normal Tissue\n",
    "            global count_T1_N\n",
    "        elif normal['id'].str.contains(file.replace('.tif', '')).any() and count_T1_N <= np.round(normal.shape[0]*0.8):\n",
    "            count_T1_N += 1\n",
    "            shutil.move(f'{folder}{file}', f\"{train_normal}{file}\")\n",
    "\n",
    "        # Push to Testing/Normal Tissue\n",
    "        elif normal['id'].str.contains(file.replace('.tif', '')).any():\n",
    "            shutil.move(f'{folder}{file}', f\"{test_normal}{file}\")\n",
    "            \n",
    "        else:\n",
    "            pass\n",
    "\n"
   ]
  },
  {
   "cell_type": "code",
   "execution_count": 8,
   "metadata": {},
   "outputs": [],
   "source": [
    "# Running the folder_seperator function\n",
    "folder_seperator(folder = './train/', cancerous = cancerous, normal = normal, \n",
    "                 train_cancerous='./cnn_train/Cancerous/', test_cancerous='./cnn_test/Cancerous/', \n",
    "                 train_normal='./cnn_train/Normal/', test_normal='./cnn_test/Normal/')"
   ]
  },
  {
   "cell_type": "code",
   "execution_count": 26,
   "metadata": {},
   "outputs": [],
   "source": [
    "count_train_cancerous = 71295\n",
    "count_train_normal = 104727\n",
    "count_test_cancerous = 17822\n",
    "count_test_normal = 26181"
   ]
  },
  {
   "cell_type": "code",
   "execution_count": 27,
   "metadata": {},
   "outputs": [
    {
     "data": {
      "text/plain": [
       "0.5949654020520162"
      ]
     },
     "execution_count": 27,
     "metadata": {},
     "output_type": "execute_result"
    }
   ],
   "source": [
    "# Checking the base line if all predicted normal in the training folder\n",
    "count_train_normal/(count_train_normal + count_train_cancerous)"
   ]
  },
  {
   "cell_type": "code",
   "execution_count": 24,
   "metadata": {
    "scrolled": true
   },
   "outputs": [
    {
     "data": {
      "text/plain": [
       "0.5949821603072518"
      ]
     },
     "execution_count": 24,
     "metadata": {},
     "output_type": "execute_result"
    }
   ],
   "source": [
    "# Checking the base line if all predicted normal in the testing folder\n",
    "count_test_normal/(count_test_cancerous + count_test_normal)"
   ]
  }
 ],
 "metadata": {
  "kernelspec": {
   "display_name": "Python 3",
   "language": "python",
   "name": "python3"
  },
  "language_info": {
   "codemirror_mode": {
    "name": "ipython",
    "version": 3
   },
   "file_extension": ".py",
   "mimetype": "text/x-python",
   "name": "python",
   "nbconvert_exporter": "python",
   "pygments_lexer": "ipython3",
   "version": "3.7.4"
  }
 },
 "nbformat": 4,
 "nbformat_minor": 2
}
